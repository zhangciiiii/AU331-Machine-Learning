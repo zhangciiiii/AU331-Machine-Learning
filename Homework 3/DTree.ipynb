{
 "cells": [
  {
   "cell_type": "code",
   "execution_count": 1,
   "metadata": {},
   "outputs": [],
   "source": [
    "import pandas as pd\n",
    "import numpy as np\n",
    "import random\n",
    "from math import log"
   ]
  },
  {
   "cell_type": "code",
   "execution_count": 2,
   "metadata": {},
   "outputs": [
    {
     "name": "stdout",
     "output_type": "stream",
     "text": [
      "    色泽  根蒂  敲声  纹理  脐部  触感     密度    含糖率 好瓜\n",
      "0   青绿  蜷缩  沉闷  稍糊  稍凹  硬滑  0.719  0.103  否\n",
      "1   乌黑  稍蜷  浊响  稍糊  稍凹  软粘  0.481  0.149  是\n",
      "2   浅白  蜷缩  浊响  清晰  凹陷  硬滑  0.556  0.215  是\n",
      "3   乌黑  稍蜷  浊响  清晰  稍凹  硬滑  0.437  0.211  是\n",
      "4   乌黑  稍蜷  浊响  清晰  稍凹  软粘  0.360  0.370  否\n",
      "5   乌黑  蜷缩  沉闷  清晰  凹陷  硬滑  0.774  0.376  是\n",
      "6   浅白  蜷缩  浊响  模糊  平坦  软粘  0.343  0.099  否\n",
      "7   乌黑  蜷缩  浊响  清晰  凹陷  硬滑  0.634  0.264  是\n",
      "8   浅白  稍蜷  沉闷  稍糊  凹陷  硬滑  0.657  0.198  否\n",
      "9   青绿  稍蜷  浊响  清晰  稍凹  软粘  0.403  0.237  是\n",
      "10  青绿  蜷缩  浊响  清晰  凹陷  硬滑  0.697  0.460  是\n",
      "11  青绿  稍蜷  浊响  稍糊  凹陷  硬滑  0.639  0.161  否\n",
      "12  浅白  蜷缩  浊响  模糊  平坦  硬滑  0.593  0.042  否\n",
      "13  青绿  蜷缩  沉闷  清晰  凹陷  硬滑  0.608  0.318  是\n",
      "14  青绿  硬挺  清脆  清晰  平坦  软粘  0.243  0.267  否\n",
      "15  乌黑  稍蜷  沉闷  稍糊  稍凹  硬滑  0.666  0.091  否\n",
      "16  浅白  硬挺  清脆  模糊  平坦  硬滑  0.245  0.057  否\n",
      "17 11 6\n"
     ]
    }
   ],
   "source": [
    "# read excel and geenrate dataframe\n",
    "np.random.seed(3)\n",
    "raw_dataset = pd.DataFrame(pd.read_excel(r'dataset_watermelon3.xlsx'))\n",
    "raw_dataset = raw_dataset.sample(frac = 1).reset_index(drop=True) # shuffle\n",
    "#raw_dataset.loc[raw_dataset['好瓜']=='是','好瓜']=1\n",
    "#raw_dataset.loc[raw_dataset['好瓜']=='否','好瓜']=0\n",
    "print(raw_dataset)\n",
    "train_set = raw_dataset.loc[:int(0.7*len(raw_dataset.index))-1]\n",
    "test_set = raw_dataset.loc[int(0.7*len(raw_dataset.index)):]\n",
    "print(len(raw_dataset),len(train_set),len(test_set))"
   ]
  },
  {
   "cell_type": "code",
   "execution_count": 3,
   "metadata": {
    "code_folding": []
   },
   "outputs": [],
   "source": [
    "def compute_Inf_Entropy(data_table):\n",
    "    '''\n",
    "    compute information entropy, \n",
    "    the input is the data table and the output is the information entropy\n",
    "    '''\n",
    "    num_class1 = len(data_table.loc[data_table['好瓜']=='是'])\n",
    "    num_class2 = len(data_table.loc[data_table['好瓜']=='否'])\n",
    "    num_all = len(data_table)\n",
    "    if num_class1==0 or num_class2==0:\n",
    "        return 0\n",
    "    Inf_Entropy = -(num_class1/num_all * log(num_class1/num_all, 2)+ num_class2/num_all * log(num_class2/num_all, 2))\n",
    "    return Inf_Entropy\n",
    "\n",
    "def Inf_gain(data_table, column):\n",
    "    '''\n",
    "    compute information gain, \n",
    "    the input is the data table and the feature that we want to compute the information gain.\n",
    "    the output is the information gain\n",
    "    '''\n",
    "    raw_inf_entropy = compute_Inf_Entropy(data_table)\n",
    "    \n",
    "    for element in raw_dataset[column].unique():\n",
    "        subset = data_table.loc[data_table[column]==element]\n",
    "        raw_inf_entropy = raw_inf_entropy - len(subset)/len(data_table) * compute_Inf_Entropy(subset)\n",
    "    return raw_inf_entropy\n",
    "\n",
    "def find_best_column(data_table):\n",
    "    '''\n",
    "    compare all the features and find the one with max information gain \n",
    "    '''\n",
    "    max_gain = 0\n",
    "    best_col = None\n",
    "    for col in data_table.iloc[:,:-3].columns:\n",
    "        col_Inf_gain = Inf_gain(data_table,col)\n",
    "        if max_gain < col_Inf_gain:\n",
    "            max_gain = col_Inf_gain\n",
    "            best_col = col\n",
    "    return best_col\n",
    "\n",
    "def create_tree(data_table,raw_dataset):\n",
    "    '''\n",
    "    Creating Decision Trees with Recursion\n",
    "    '''\n",
    "    if len(data_table['好瓜'].unique())==1: # Same category\n",
    "        return data_table['好瓜'].unique()[0]\n",
    "    \n",
    "    if len(data_table.iloc[:,:-3].columns)==0: # iterating through all features\n",
    "        num_good = len(data_table.loc[data_table['好瓜']=='是'])\n",
    "        num_bad = len(data_table.loc[data_table['好瓜']=='否'])\n",
    "        return '是' if num_good>num_bad else '否'\n",
    "    \n",
    "    best_feature = find_best_column(data_table)\n",
    "\n",
    "    tree = {best_feature:{}}\n",
    "    # print(raw_dataset[best_feature].unique())\n",
    "    for feature_value in raw_dataset[best_feature].unique():\n",
    "        subset = data_table.loc[data_table[best_feature]==feature_value].copy()\n",
    "        subset.pop(best_feature) # delete the feature\n",
    "        \n",
    "        if len(subset)==0:\n",
    "            num_good = len(data_table.loc[data_table['好瓜']=='是'])\n",
    "            num_bad = len(data_table.loc[data_table['好瓜']=='否'])\n",
    "            tree[best_feature][feature_value] = '是' if num_good>num_bad else '否'\n",
    "            continue\n",
    "        tree[best_feature][feature_value]=create_tree(subset,raw_dataset)\n",
    "    return tree\n",
    "\n",
    "def test_DTree(data_table,tree):\n",
    "    '''\n",
    "    Test the decision tree model on the test set\n",
    "    '''\n",
    "    def test_one_sample(data_vec,tree):\n",
    "        if tree == '是' or tree == '否':\n",
    "            return tree\n",
    "        feature = list(tree.keys())[0]\n",
    "        \n",
    "        feature_value = list(tree[feature].keys())\n",
    "\n",
    "        subtree = tree[feature][data_vec[feature]]\n",
    "        return test_one_sample(data_vec,subtree)\n",
    "    \n",
    "    \n",
    "    correct_prediction = 0\n",
    "    wrong_prediction = 0\n",
    "    for index, sample in data_table.iterrows():\n",
    "        pred_label = test_one_sample(sample,tree)\n",
    "        if pred_label == sample['好瓜']:\n",
    "            correct_prediction = correct_prediction+1\n",
    "        else :\n",
    "            wrong_prediction = wrong_prediction+1\n",
    "    return correct_prediction/(correct_prediction+wrong_prediction)"
   ]
  },
  {
   "cell_type": "code",
   "execution_count": 4,
   "metadata": {},
   "outputs": [
    {
     "name": "stdout",
     "output_type": "stream",
     "text": [
      "the DTree is:\n",
      "{'纹理': {'稍糊': {'色泽': {'青绿': '否', '乌黑': '是', '浅白': '否'}}, '清晰': {'触感': {'硬滑': '是', '软粘': {'色泽': {'青绿': '是', '乌黑': '否', '浅白': '否'}}}}, '模糊': '否'}}\n",
      "the accuracy on the test set is: 0.6666666666666666\n"
     ]
    }
   ],
   "source": [
    "tree = create_tree(train_set,raw_dataset)\n",
    "print(\"the DTree is:\")\n",
    "print(tree)\n",
    "acc = test_DTree(test_set,tree)\n",
    "print('the accuracy on the test set is: '+ str(acc))"
   ]
  },
  {
   "cell_type": "code",
   "execution_count": null,
   "metadata": {},
   "outputs": [],
   "source": []
  },
  {
   "cell_type": "code",
   "execution_count": null,
   "metadata": {},
   "outputs": [],
   "source": []
  }
 ],
 "metadata": {
  "kernelspec": {
   "display_name": "Python 3",
   "language": "python",
   "name": "python3"
  },
  "language_info": {
   "codemirror_mode": {
    "name": "ipython",
    "version": 3
   },
   "file_extension": ".py",
   "mimetype": "text/x-python",
   "name": "python",
   "nbconvert_exporter": "python",
   "pygments_lexer": "ipython3",
   "version": "3.7.0"
  },
  "toc": {
   "base_numbering": 1,
   "nav_menu": {},
   "number_sections": true,
   "sideBar": true,
   "skip_h1_title": false,
   "title_cell": "Table of Contents",
   "title_sidebar": "Contents",
   "toc_cell": false,
   "toc_position": {},
   "toc_section_display": true,
   "toc_window_display": false
  }
 },
 "nbformat": 4,
 "nbformat_minor": 2
}
