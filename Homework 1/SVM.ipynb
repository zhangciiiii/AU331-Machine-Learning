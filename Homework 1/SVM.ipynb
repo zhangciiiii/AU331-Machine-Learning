{
 "cells": [
  {
   "cell_type": "code",
   "execution_count": 1,
   "metadata": {},
   "outputs": [],
   "source": [
    "# import\n",
    "import numpy as np\n",
    "import pandas as pd\n",
    "from sklearn import svm\n",
    "import matplotlib.pyplot as plt "
   ]
  },
  {
   "cell_type": "code",
   "execution_count": 2,
   "metadata": {
    "scrolled": true
   },
   "outputs": [
    {
     "name": "stdout",
     "output_type": "stream",
     "text": [
      "    色泽  根蒂  敲声  纹理  脐部  触感     密度    含糖率  好瓜\n",
      "0   浅白  稍蜷  沉闷  稍糊  凹陷  硬滑  0.657  0.198   0\n",
      "1   浅白  蜷缩  浊响  模糊  平坦  软粘  0.343  0.099   0\n",
      "2   乌黑  稍蜷  浊响  稍糊  稍凹  软粘  0.481  0.149   1\n",
      "3   乌黑  稍蜷  浊响  清晰  稍凹  硬滑  0.437  0.211   1\n",
      "4   乌黑  蜷缩  浊响  清晰  凹陷  硬滑  0.634  0.264   1\n",
      "5   乌黑  稍蜷  沉闷  稍糊  稍凹  硬滑  0.666  0.091   0\n",
      "6   青绿  稍蜷  浊响  清晰  稍凹  软粘  0.403  0.237   1\n",
      "7   乌黑  稍蜷  浊响  清晰  稍凹  软粘  0.360  0.370   0\n",
      "8   乌黑  蜷缩  沉闷  清晰  凹陷  硬滑  0.774  0.376   1\n",
      "9   浅白  蜷缩  浊响  模糊  平坦  硬滑  0.593  0.042   0\n",
      "10  青绿  蜷缩  浊响  清晰  凹陷  硬滑  0.697  0.460   1\n",
      "11  青绿  稍蜷  浊响  稍糊  凹陷  硬滑  0.639  0.161   0\n",
      "12  青绿  蜷缩  沉闷  稍糊  稍凹  硬滑  0.719  0.103   0\n",
      "13  浅白  蜷缩  浊响  清晰  凹陷  硬滑  0.556  0.215   1\n",
      "14  青绿  蜷缩  沉闷  清晰  凹陷  硬滑  0.608  0.318   1\n",
      "15  青绿  硬挺  清脆  清晰  平坦  软粘  0.243  0.267   0\n",
      "16  浅白  硬挺  清脆  模糊  平坦  硬滑  0.245  0.057   0\n",
      "    色泽浅白  色泽乌黑  色泽青绿  根蒂稍蜷  根蒂蜷缩  根蒂硬挺  敲声沉闷  敲声浊响  敲声清脆  纹理稍糊  纹理模糊  纹理清晰  \\\n",
      "0      1     0     0     1     0     0     1     0     0     1     0     0   \n",
      "1      1     0     0     0     1     0     0     1     0     0     1     0   \n",
      "2      0     1     0     1     0     0     0     1     0     1     0     0   \n",
      "3      0     1     0     1     0     0     0     1     0     0     0     1   \n",
      "4      0     1     0     0     1     0     0     1     0     0     0     1   \n",
      "5      0     1     0     1     0     0     1     0     0     1     0     0   \n",
      "6      0     0     1     1     0     0     0     1     0     0     0     1   \n",
      "7      0     1     0     1     0     0     0     1     0     0     0     1   \n",
      "8      0     1     0     0     1     0     1     0     0     0     0     1   \n",
      "9      1     0     0     0     1     0     0     1     0     0     1     0   \n",
      "10     0     0     1     0     1     0     0     1     0     0     0     1   \n",
      "11     0     0     1     1     0     0     0     1     0     1     0     0   \n",
      "12     0     0     1     0     1     0     1     0     0     1     0     0   \n",
      "13     1     0     0     0     1     0     0     1     0     0     0     1   \n",
      "14     0     0     1     0     1     0     1     0     0     0     0     1   \n",
      "15     0     0     1     0     0     1     0     0     1     0     0     1   \n",
      "16     1     0     0     0     0     1     0     0     1     0     1     0   \n",
      "\n",
      "    脐部凹陷  脐部平坦  脐部稍凹  触感硬滑  触感软粘     密度    含糖率  好瓜  \n",
      "0      1     0     0     1     0  0.657  0.198   0  \n",
      "1      0     1     0     0     1  0.343  0.099   0  \n",
      "2      0     0     1     0     1  0.481  0.149   1  \n",
      "3      0     0     1     1     0  0.437  0.211   1  \n",
      "4      1     0     0     1     0  0.634  0.264   1  \n",
      "5      0     0     1     1     0  0.666  0.091   0  \n",
      "6      0     0     1     0     1  0.403  0.237   1  \n",
      "7      0     0     1     0     1  0.360  0.370   0  \n",
      "8      1     0     0     1     0  0.774  0.376   1  \n",
      "9      0     1     0     1     0  0.593  0.042   0  \n",
      "10     1     0     0     1     0  0.697  0.460   1  \n",
      "11     1     0     0     1     0  0.639  0.161   0  \n",
      "12     0     0     1     1     0  0.719  0.103   0  \n",
      "13     1     0     0     1     0  0.556  0.215   1  \n",
      "14     1     0     0     1     0  0.608  0.318   1  \n",
      "15     0     1     0     0     1  0.243  0.267   0  \n",
      "16     0     1     0     1     0  0.245  0.057   0  \n"
     ]
    }
   ],
   "source": [
    "# read excel and geenrate dataframe\n",
    "# 读取数据\n",
    "np.random.seed(6)\n",
    "raw_dataset = pd.DataFrame(pd.read_excel(r'dataset_watermelon3.xlsx'))\n",
    "raw_dataset = raw_dataset.sample(frac = 1).reset_index(drop=True) # shuffle\n",
    "raw_dataset.loc[raw_dataset['好瓜']=='是','好瓜']=1\n",
    "raw_dataset.loc[raw_dataset['好瓜']=='否','好瓜']=0\n",
    "print(raw_dataset)\n",
    "\n",
    "# one-hot encoding\n",
    "# 使用独热编码预处理\n",
    "dataset = pd.DataFrame()\n",
    "for col in raw_dataset.iloc[:,:-3].columns :\n",
    "    for element in raw_dataset[col].unique():\n",
    "        dataset[col+element]=np.zeros_like(raw_dataset[col])\n",
    "        dataset.loc[raw_dataset[col]==element,col+element]=1\n",
    "for col in raw_dataset.iloc[:,-3:].columns :\n",
    "    dataset[col]=raw_dataset[col]\n",
    "    \n",
    "print(dataset)\n",
    "\n"
   ]
  },
  {
   "cell_type": "code",
   "execution_count": 3,
   "metadata": {},
   "outputs": [],
   "source": [
    "class My_SVM:\n",
    "    def __init__(self,dataset):\n",
    "        self.train_dataset = dataset.loc[:int(0.8*len(dataset.index))] # dataframe\n",
    "        self.val_dataset = dataset.loc[int(0.8*len(dataset.index))+1:] # dataframe\n",
    "\n",
    "        \n",
    "        # stored as numpy\n",
    "        self.train_matrix = self.train_dataset.iloc[:,0:-1].values # [N, 8]\n",
    "        self.train_classification = self.train_dataset.iloc[:,-1].values # [N, 1]\n",
    "        \n",
    "        self.test_matrix = self.val_dataset.iloc[:,0:-1].values # [N, 8]\n",
    "        self.test_classification = self.val_dataset.iloc[:,-1].values # [N, 8]\n",
    "        \n",
    "    def train(self,kernel=None):\n",
    "        \"\"\"\n",
    "        用训练集数据训练模型\n",
    "        \"\"\"\n",
    "        self.model = svm.SVC(kernel=kernel)\n",
    "        self.model.fit(X=self.train_matrix, y=self.train_classification,sample_weight=None)\n",
    "                \n",
    "    def validation(self,kernel):\n",
    "        \"\"\"\n",
    "        将测试集的样本特征输入模型，得到预测分类结果，并与真值进行比较，得到准确率\n",
    "        \"\"\"\n",
    "        result = self.model.predict(self.test_matrix)\n",
    "        # print('Training Result',result)\n",
    "        # print('Ground Truth',self.test_classification)\n",
    "        accuracy = np.where(result==self.test_classification,\n",
    "                            np.ones_like(result),np.zeros_like(result))\n",
    "\n",
    "        accuracy = accuracy.sum()/len(accuracy)\n",
    "        print('Accuracy with Kernel:'+ kernel+':',\"%.2f%%\"  %(accuracy*100))\n",
    "        \n",
    "    def comparasion(self):\n",
    "        '''\n",
    "        对比不同的核函数对分类的影响\n",
    "        '''\n",
    "        kernel_list = ['linear','poly','rbf','sigmoid']\n",
    "        for kernel_ in kernel_list:\n",
    "            self.train(kernel_)\n",
    "            self.validation(kernel_)\n",
    "            "
   ]
  },
  {
   "cell_type": "code",
   "execution_count": 4,
   "metadata": {},
   "outputs": [
    {
     "name": "stdout",
     "output_type": "stream",
     "text": [
      "Accuracy with Kernel:linear: 66.67%\n",
      "Accuracy with Kernel:poly: 100.00%\n",
      "Accuracy with Kernel:rbf: 100.00%\n",
      "Accuracy with Kernel:sigmoid: 66.67%\n"
     ]
    }
   ],
   "source": [
    "SVM_model = My_SVM(dataset)\n",
    "SVM_model.comparasion()"
   ]
  },
  {
   "cell_type": "code",
   "execution_count": null,
   "metadata": {},
   "outputs": [],
   "source": []
  },
  {
   "cell_type": "code",
   "execution_count": null,
   "metadata": {},
   "outputs": [],
   "source": []
  }
 ],
 "metadata": {
  "kernelspec": {
   "display_name": "Python 3",
   "language": "python",
   "name": "python3"
  },
  "language_info": {
   "codemirror_mode": {
    "name": "ipython",
    "version": 3
   },
   "file_extension": ".py",
   "mimetype": "text/x-python",
   "name": "python",
   "nbconvert_exporter": "python",
   "pygments_lexer": "ipython3",
   "version": "3.7.0"
  },
  "toc": {
   "base_numbering": 1,
   "nav_menu": {},
   "number_sections": true,
   "sideBar": true,
   "skip_h1_title": false,
   "title_cell": "Table of Contents",
   "title_sidebar": "Contents",
   "toc_cell": false,
   "toc_position": {},
   "toc_section_display": true,
   "toc_window_display": false
  }
 },
 "nbformat": 4,
 "nbformat_minor": 2
}
