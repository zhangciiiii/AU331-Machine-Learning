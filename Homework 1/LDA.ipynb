{
 "cells": [
  {
   "cell_type": "code",
   "execution_count": 1,
   "metadata": {},
   "outputs": [],
   "source": [
    "# import\n",
    "import numpy as np\n",
    "import pandas as pd\n",
    "import matplotlib.pyplot as plt \n"
   ]
  },
  {
   "cell_type": "code",
   "execution_count": 2,
   "metadata": {
    "scrolled": true
   },
   "outputs": [
    {
     "name": "stdout",
     "output_type": "stream",
     "text": [
      "    色泽  根蒂  敲声  纹理  脐部  触感     密度    含糖率  好瓜\n",
      "0   青绿  蜷缩  沉闷  稍糊  稍凹  硬滑  0.719  0.103   0\n",
      "1   乌黑  稍蜷  浊响  稍糊  稍凹  软粘  0.481  0.149   1\n",
      "2   浅白  蜷缩  浊响  清晰  凹陷  硬滑  0.556  0.215   1\n",
      "3   乌黑  稍蜷  浊响  清晰  稍凹  硬滑  0.437  0.211   1\n",
      "4   乌黑  稍蜷  浊响  清晰  稍凹  软粘  0.360  0.370   0\n",
      "5   乌黑  蜷缩  沉闷  清晰  凹陷  硬滑  0.774  0.376   1\n",
      "6   浅白  蜷缩  浊响  模糊  平坦  软粘  0.343  0.099   0\n",
      "7   乌黑  蜷缩  浊响  清晰  凹陷  硬滑  0.634  0.264   1\n",
      "8   浅白  稍蜷  沉闷  稍糊  凹陷  硬滑  0.657  0.198   0\n",
      "9   青绿  稍蜷  浊响  清晰  稍凹  软粘  0.403  0.237   1\n",
      "10  青绿  蜷缩  浊响  清晰  凹陷  硬滑  0.697  0.460   1\n",
      "11  青绿  稍蜷  浊响  稍糊  凹陷  硬滑  0.639  0.161   0\n",
      "12  浅白  蜷缩  浊响  模糊  平坦  硬滑  0.593  0.042   0\n",
      "13  青绿  蜷缩  沉闷  清晰  凹陷  硬滑  0.608  0.318   1\n",
      "14  青绿  硬挺  清脆  清晰  平坦  软粘  0.243  0.267   0\n",
      "15  乌黑  稍蜷  沉闷  稍糊  稍凹  硬滑  0.666  0.091   0\n",
      "16  浅白  硬挺  清脆  模糊  平坦  硬滑  0.245  0.057   0\n",
      "    色泽青绿  色泽乌黑  色泽浅白  根蒂蜷缩  根蒂稍蜷  根蒂硬挺  敲声沉闷  敲声浊响  敲声清脆  纹理稍糊  纹理清晰  纹理模糊  \\\n",
      "0      1     0     0     1     0     0     1     0     0     1     0     0   \n",
      "1      0     1     0     0     1     0     0     1     0     1     0     0   \n",
      "2      0     0     1     1     0     0     0     1     0     0     1     0   \n",
      "3      0     1     0     0     1     0     0     1     0     0     1     0   \n",
      "4      0     1     0     0     1     0     0     1     0     0     1     0   \n",
      "5      0     1     0     1     0     0     1     0     0     0     1     0   \n",
      "6      0     0     1     1     0     0     0     1     0     0     0     1   \n",
      "7      0     1     0     1     0     0     0     1     0     0     1     0   \n",
      "8      0     0     1     0     1     0     1     0     0     1     0     0   \n",
      "9      1     0     0     0     1     0     0     1     0     0     1     0   \n",
      "10     1     0     0     1     0     0     0     1     0     0     1     0   \n",
      "11     1     0     0     0     1     0     0     1     0     1     0     0   \n",
      "12     0     0     1     1     0     0     0     1     0     0     0     1   \n",
      "13     1     0     0     1     0     0     1     0     0     0     1     0   \n",
      "14     1     0     0     0     0     1     0     0     1     0     1     0   \n",
      "15     0     1     0     0     1     0     1     0     0     1     0     0   \n",
      "16     0     0     1     0     0     1     0     0     1     0     0     1   \n",
      "\n",
      "    脐部稍凹  脐部凹陷  脐部平坦  触感硬滑  触感软粘     密度    含糖率  好瓜  \n",
      "0      1     0     0     1     0  0.719  0.103   0  \n",
      "1      1     0     0     0     1  0.481  0.149   1  \n",
      "2      0     1     0     1     0  0.556  0.215   1  \n",
      "3      1     0     0     1     0  0.437  0.211   1  \n",
      "4      1     0     0     0     1  0.360  0.370   0  \n",
      "5      0     1     0     1     0  0.774  0.376   1  \n",
      "6      0     0     1     0     1  0.343  0.099   0  \n",
      "7      0     1     0     1     0  0.634  0.264   1  \n",
      "8      0     1     0     1     0  0.657  0.198   0  \n",
      "9      1     0     0     0     1  0.403  0.237   1  \n",
      "10     0     1     0     1     0  0.697  0.460   1  \n",
      "11     0     1     0     1     0  0.639  0.161   0  \n",
      "12     0     0     1     1     0  0.593  0.042   0  \n",
      "13     0     1     0     1     0  0.608  0.318   1  \n",
      "14     0     0     1     0     1  0.243  0.267   0  \n",
      "15     1     0     0     1     0  0.666  0.091   0  \n",
      "16     0     0     1     1     0  0.245  0.057   0  \n"
     ]
    }
   ],
   "source": [
    "# read excel and geenrate dataframe\n",
    "np.random.seed(3)\n",
    "raw_dataset = pd.DataFrame(pd.read_excel(r'dataset_watermelon3.xlsx'))\n",
    "raw_dataset = raw_dataset.sample(frac = 1).reset_index(drop=True) # shuffle\n",
    "raw_dataset.loc[raw_dataset['好瓜']=='是','好瓜']=1\n",
    "raw_dataset.loc[raw_dataset['好瓜']=='否','好瓜']=0\n",
    "print(raw_dataset)\n",
    "\n",
    "# one-hot encoding\n",
    "dataset = pd.DataFrame()\n",
    "for col in raw_dataset.iloc[:,:-3].columns :\n",
    "    for element in raw_dataset[col].unique():\n",
    "        dataset[col+element]=np.zeros_like(raw_dataset[col])\n",
    "        dataset.loc[raw_dataset[col]==element,col+element]=1\n",
    "for col in raw_dataset.iloc[:,-3:].columns :\n",
    "    dataset[col]=raw_dataset[col]\n",
    "    \n",
    "print(dataset)\n"
   ]
  },
  {
   "cell_type": "code",
   "execution_count": null,
   "metadata": {},
   "outputs": [],
   "source": []
  },
  {
   "cell_type": "code",
   "execution_count": 3,
   "metadata": {},
   "outputs": [],
   "source": [
    "# define the class\n",
    "class LDA:\n",
    "    \n",
    "    def __init__(self,dataset):\n",
    "        self.train_dataset = dataset.loc[:int(0.8*len(dataset.index))]\n",
    "        self.val_dataset = dataset.loc[int(0.8*len(dataset.index)):]\n",
    "        \n",
    "        self.class_0_set = self.train_dataset[self.train_dataset['好瓜']==0]\n",
    "        self.class_1_set = self.train_dataset[self.train_dataset['好瓜']==1]\n",
    "        \n",
    "        # stored as numpy\n",
    "        self.data_matrix_0 = self.class_0_set.iloc[:,0:-1].values # [N, 8]\n",
    "        self.classification_0 = self.class_0_set.iloc[:,-1].values # [N, 1]\n",
    "        self.data_matrix_1 = self.class_1_set.iloc[:,0:-1].values # [N, 8]\n",
    "        self.classification_1 = self.class_1_set.iloc[:,-1].values # [N, 1]\n",
    "        \n",
    "    \n",
    "    def training(self):\n",
    "        self.u0 = self.data_matrix_0.mean(0) # 均值\n",
    "        self.u1 = self.data_matrix_1.mean(0)\n",
    "        \n",
    "        #def compute_sigma(self):\n",
    "        tmp0 = np.zeros_like((self.data_matrix_0[0,:]-self.u0).dot((self.data_matrix_0[0,:]-self.u0).T))\n",
    "        for raw in range(self.data_matrix_0.shape[0]):\n",
    "            tmp0 += (self.data_matrix_0[raw,:]-self.u0).dot((self.data_matrix_0[raw,:]-self.u0).T)\n",
    "        self.sigma0=1/(self.data_matrix_0.shape[0]-1) * tmp0 # 用于计算类内离散度矩阵\n",
    "        \n",
    "        tmp1 = np.zeros_like((self.data_matrix_1[0,:]-self.u1).dot((self.data_matrix_1[0,:]-self.u1).T))\n",
    "        for raw in range(self.data_matrix_1.shape[0]):\n",
    "            tmp1 += (self.data_matrix_1[raw,:]-self.u1).dot((self.data_matrix_1[raw,:]-self.u1).T)\n",
    "        self.sigma1=1/(self.data_matrix_1.shape[0]-1) * tmp1 # 用于计算类内离散度矩阵\n",
    "        \n",
    "        self.S_w = self.sigma0 + self.sigma1 # 类内离散度矩阵\n",
    "        \n",
    "        # def compute_w(self):\n",
    "\n",
    "        if isinstance(self.S_w,np.float64): # 有可能矩阵退化为一个数\n",
    "            self.w = (1/self.S_w) * (self.u0-self.u1)\n",
    "        else:\n",
    "            self.w = np.linalg.inv(self.S_w).dot(self.u0-self.u1)\n",
    "        \n",
    "        self.class_0_centre =  self.w.T.dot(self.u0)\n",
    "        self.class_1_centre =  self.w.T.dot(self.u1)\n",
    "        return self.w # [1,8]\n",
    "    \n",
    "    def  classification(self,sample):\n",
    "        '''\n",
    "        分类时，将样本特征投影到直线上，分别比较样本投影点与两类中心点投影点的距离。\n",
    "        '''\n",
    "        return 1 if abs(self.w.T.dot(sample) - self.class_0_centre)> \\\n",
    "                abs(self.w.T.dot(sample) - self.class_1_centre) else 0\n",
    "    \n",
    "    def validation(self):\n",
    "        correct_validation = 0\n",
    "        wrong_validation = 0\n",
    "        for i in range(len(self.val_dataset.index)):\n",
    "            vector_x = self.val_dataset.iloc[i,:-1].values # [1,8]\n",
    "            groud_truth = self.val_dataset.iloc[i,-1]\n",
    "            predict_value = self.classification(vector_x)\n",
    "            if groud_truth==predict_value:\n",
    "                correct_validation+=1\n",
    "            else:\n",
    "                wrong_validation+=1\n",
    "        return float(correct_validation/(wrong_validation+correct_validation))\n",
    "            \n",
    "    def visualization(self):\n",
    "        obj_train_0 = self.w.dot(self.data_matrix_0.T)\n",
    "        obj_train_1 = self.w.dot(self.data_matrix_1.T)\n",
    "        obj_val = self.w.dot(self.val_dataset.iloc[:,:-1].values.T)\n",
    "        l1 = plt.scatter(obj_train_0,np.zeros_like(obj_train_0),c='#00CED1',alpha=0.5)\n",
    "        l2 = plt.scatter(obj_train_1,np.zeros_like(obj_train_1),c='#DC143C',alpha=0.5)\n",
    "        l3 = plt.scatter(self.class_0_centre,0,marker='*',c='#00CED1')\n",
    "        l4 = plt.scatter(self.class_1_centre,0,marker='*',c='#DC143C')\n",
    "        l5 = plt.scatter(obj_val,np.zeros_like(obj_val),marker='+',c='#420612')\n",
    "        plt.legend([l1, l2, l3,l4 ,l5],\n",
    "                   ['class 0', 'class 1','centre of class 0','centre of class 1', 'projected samples'], \n",
    "                   loc = 'upper right') \n",
    "        plt.show()\n",
    "        \n",
    "    "
   ]
  },
  {
   "cell_type": "code",
   "execution_count": 4,
   "metadata": {},
   "outputs": [
    {
     "name": "stdout",
     "output_type": "stream",
     "text": [
      "Accuracy on validation set: 100.00%\n"
     ]
    },
    {
     "data": {
      "image/png": "[encoded data removed]",
      "text/plain": [
       "<Figure size 432x288 with 1 Axes>"
      ]
     },
     "metadata": {
      "needs_background": "light"
     },
     "output_type": "display_data"
    }
   ],
   "source": [
    "LDA_watermelon = LDA(dataset)\n",
    "LDA_watermelon.training()\n",
    "print('Accuracy on validation set:',\"%.2f%%\"  %(LDA_watermelon.validation()*100))\n",
    "LDA_watermelon.visualization()"
   ]
  },
  {
   "cell_type": "code",
   "execution_count": null,
   "metadata": {},
   "outputs": [],
   "source": []
  },
  {
   "cell_type": "code",
   "execution_count": null,
   "metadata": {},
   "outputs": [],
   "source": []
  }
 ],
 "metadata": {
  "kernelspec": {
   "display_name": "Python 3",
   "language": "python",
   "name": "python3"
  },
  "language_info": {
   "codemirror_mode": {
    "name": "ipython",
    "version": 3
   },
   "file_extension": ".py",
   "mimetype": "text/x-python",
   "name": "python",
   "nbconvert_exporter": "python",
   "pygments_lexer": "ipython3",
   "version": "3.7.0"
  },
  "toc": {
   "base_numbering": 1,
   "nav_menu": {},
   "number_sections": true,
   "sideBar": true,
   "skip_h1_title": false,
   "title_cell": "Table of Contents",
   "title_sidebar": "Contents",
   "toc_cell": false,
   "toc_position": {},
   "toc_section_display": true,
   "toc_window_display": false
  }
 },
 "nbformat": 4,
 "nbformat_minor": 2
}
