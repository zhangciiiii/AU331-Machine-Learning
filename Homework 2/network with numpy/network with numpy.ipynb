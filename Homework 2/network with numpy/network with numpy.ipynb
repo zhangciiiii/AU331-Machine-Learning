{
 "cells": [
  {
   "cell_type": "markdown",
   "metadata": {},
   "source": [
    "## 程序说明\n",
    "\n",
    "#### 目录下保存了训练过程中的损失变化与准确性变化(存为npy文件)，训练后的模型也被保存。若运行该文档时，检测到目录下有这些文件，就会调用display函数展示之前的训练过程，并加载模型测试在测试集上的精确度。删去这些文件可以重新训练模型。\n",
    "\n",
    "#### 如果没有删除文件，直接点击运行相当于展示之前的训练过程，并加载模型测试在测试集上的精确度，但训练过程中的部分prrint和图像就没了，建议在运行前先阅读程序并看之前展示的图像和数据，阅读完毕后再点击运行，检查模型的效果。"
   ]
  },
  {
   "cell_type": "code",
   "execution_count": 1,
   "metadata": {},
   "outputs": [],
   "source": [
    "import numpy as np\n",
    "import pandas as pd\n",
    "import random\n",
    "import matplotlib.pyplot as plt\n",
    "import os"
   ]
  },
  {
   "cell_type": "code",
   "execution_count": 2,
   "metadata": {},
   "outputs": [],
   "source": [
    "class NPnetwork():\n",
    "    def __init__(self,dim_of_input,num_of_neure_in_hidden_layer,dim_of_output, learning_rate = 1e-3):\n",
    "        self.dim_of_input = dim_of_input\n",
    "        self.num_of_neure = num_of_neure_in_hidden_layer\n",
    "        self.dim_of_output = dim_of_output\n",
    "        self.learning_rate = learning_rate\n",
    "        \n",
    "        self.weights_input_hidden = np.random.rand(dim_of_input,num_of_neure_in_hidden_layer) # [d,h]\n",
    "        self.bias_input_hidden = np.random.rand(num_of_neure_in_hidden_layer)[:,None]\n",
    "        self.weights_hidden_output = np.random.rand(num_of_neure_in_hidden_layer,dim_of_output) # [h,c]\n",
    "        self.bias_hidden_output = np.random.rand(dim_of_output)[:,None]\n",
    "        \n",
    "    def save_model(self):\n",
    "        np.savez('model.npz',\n",
    "                 weights_input_hidden = self.weights_input_hidden,\n",
    "                 bias_input_hidden = self.bias_input_hidden,\n",
    "                 weights_hidden_output = self.weights_hidden_output,\n",
    "                 bias_hidden_output = self.bias_hidden_output)\n",
    "    \n",
    "    def load_model(self):\n",
    "        pretrained_model=np.load('model.npz')\n",
    "        self.weights_input_hidden = pretrained_model['weights_input_hidden'] # [d,h]\n",
    "        self.bias_input_hidden = pretrained_model['bias_input_hidden']\n",
    "        self.weights_hidden_output = pretrained_model['weights_hidden_output']# [h,c]\n",
    "        self.bias_hidden_output = pretrained_model['bias_hidden_output']\n",
    "        \n",
    "    def sigmoid_activation(self, input_x):\n",
    "        return 1/(1+np.exp(-input_x))\n",
    "    \n",
    "    def MSE_loss(self,predict,ground_truth):\n",
    "        return np.mean(0.5*(predict-ground_truth)**2)\n",
    "    \n",
    "    def forward(self,input_features,ground_truth):\n",
    "        self.input_features = input_features[:,None] # [d,1]\n",
    "        # print(self.input_features.shape)\n",
    "        self.hidden_out = ((self.weights_input_hidden).T @ self.input_features + self.bias_input_hidden )# [h,d] @ [d,1] = [h,1]\n",
    "        # print(self.weights_input_hidden.shape,input_features.shape,self.bias_input_hidden.shape,self.hidden_out.shape)\n",
    "        self.activation_out = self.sigmoid_activation(self.hidden_out) # [h,1]\n",
    "        # print(self.activation_out.shape)\n",
    "        self.output = (self.weights_hidden_output).T @ self.activation_out + self.bias_hidden_output # [c,h] @ [h,1] = [c,1]\n",
    "        # print(self.output.shape)\n",
    "        self.loss = self.MSE_loss(self.output,ground_truth)\n",
    "        return self.output\n",
    "    \n",
    "    \n",
    "    def backward_and_update(self,predict,ground_truth):\n",
    "        # backward of weights_hidden_output and bias_hidden_output\n",
    "        d_weights_hidden_output = ((predict-ground_truth) @ self.activation_out.T ).T# [c,1] @ [1,h] =[c,h]  => [h,c]\n",
    "        d_bias_hidden_output = (predict-ground_truth) # [c,1]\n",
    "        \n",
    "        # update the weights_hidden_output and bias_hidden_output\n",
    "        self.weights_hidden_output = self.weights_hidden_output - self.learning_rate*d_weights_hidden_output\n",
    "        self.bias_hidden_output = self.bias_hidden_output - self.learning_rate*d_bias_hidden_output\n",
    "        #--------------------------------------------\n",
    "        # print(predict.shape,ground_truth.shape)\n",
    "        \n",
    "        # # backward of weights_input_hidden and bias_input_hidden\n",
    "        d_weights_input_hidden = (self.weights_hidden_output @ (predict-ground_truth)) \n",
    "        d_weights_input_hidden = d_weights_input_hidden @ self.activation_out.T  \n",
    "        d_weights_input_hidden = d_weights_input_hidden @(1-self.activation_out)\n",
    "        d_weights_input_hidden = d_weights_input_hidden @ self.input_features.T\n",
    "        # [h,c] @ [c,1] =[h,1], [h,1] @ [1,h] = [h,h], [h,h] @ [h,1] = [h,1], [h,1] @ [1,d] = [h,d]\n",
    "        \n",
    "        d_weights_input_hidden = d_weights_input_hidden.T\n",
    "        d_bias_input_hidden = (self.weights_hidden_output @ (predict-ground_truth)) @ self.activation_out.T  @(1-self.activation_out) \n",
    "        \n",
    "        # update weights_input_hidden and bias_input_hidden\n",
    "        self.weights_input_hidden = self.weights_input_hidden - self.learning_rate*d_weights_input_hidden   \n",
    "        self.bias_input_hidden = self.bias_input_hidden - self.learning_rate*d_bias_input_hidden\n",
    "    \n",
    "    def train(self,input_x,ground_truth):\n",
    "        # training process includes forward and backward_and_update\n",
    "        predict = self.forward(input_x,ground_truth)\n",
    "        self.backward_and_update(predict,ground_truth)\n",
    "        \n"
   ]
  },
  {
   "cell_type": "code",
   "execution_count": 3,
   "metadata": {},
   "outputs": [],
   "source": [
    "def set_seed(seed=0):\n",
    "    np.random.seed(seed)\n",
    "    random.seed(seed)\n",
    "    np.random.seed(seed)"
   ]
  },
  {
   "cell_type": "code",
   "execution_count": 4,
   "metadata": {
    "scrolled": true
   },
   "outputs": [
    {
     "name": "stdout",
     "output_type": "stream",
     "text": [
      "       0    1    2    3  4\n",
      "0    6.3  2.3  4.4  1.3  0\n",
      "1    6.4  2.7  5.3  1.9  1\n",
      "2    5.4  3.7  1.5  0.2  2\n",
      "3    6.1  3.0  4.6  1.4  0\n",
      "4    5.0  3.3  1.4  0.2  2\n",
      "5    5.0  2.0  3.5  1.0  0\n",
      "6    6.3  2.5  4.9  1.5  0\n",
      "7    5.8  2.7  4.1  1.0  0\n",
      "8    5.1  3.4  1.5  0.2  2\n",
      "9    5.7  2.8  4.5  1.3  0\n",
      "10   5.6  3.0  4.5  1.5  0\n",
      "11   5.8  2.7  5.1  1.9  1\n",
      "12   5.5  2.3  4.0  1.3  0\n",
      "13   4.9  3.0  1.4  0.2  2\n",
      "14   5.1  3.8  1.5  0.3  2\n",
      "15   6.8  3.0  5.5  2.1  1\n",
      "16   6.0  3.4  4.5  1.6  0\n",
      "17   4.4  3.0  1.3  0.2  2\n",
      "18   5.1  3.7  1.5  0.4  2\n",
      "19   5.0  3.2  1.2  0.2  2\n",
      "20   7.1  3.0  5.9  2.1  1\n",
      "21   6.4  2.8  5.6  2.2  1\n",
      "22   6.2  2.8  4.8  1.8  1\n",
      "23   4.8  3.4  1.9  0.2  2\n",
      "24   5.9  3.0  4.2  1.5  0\n",
      "25   4.7  3.2  1.3  0.2  2\n",
      "26   5.7  3.0  4.2  1.2  0\n",
      "27   5.5  2.6  4.4  1.2  0\n",
      "28   6.8  2.8  4.8  1.4  0\n",
      "29   7.7  3.8  6.7  2.2  1\n",
      "..   ...  ...  ...  ... ..\n",
      "120  6.7  3.1  4.7  1.5  0\n",
      "121  5.8  2.6  4.0  1.2  0\n",
      "122  6.2  3.4  5.4  2.3  1\n",
      "123  5.0  3.0  1.6  0.2  2\n",
      "124  6.0  3.0  4.8  1.8  1\n",
      "125  4.3  3.0  1.1  0.1  2\n",
      "126  5.6  2.5  3.9  1.1  0\n",
      "127  6.7  3.0  5.0  1.7  0\n",
      "128  7.7  3.0  6.1  2.3  1\n",
      "129  6.3  3.4  5.6  2.4  1\n",
      "130  5.5  4.2  1.4  0.2  2\n",
      "131  6.0  2.2  4.0  1.0  0\n",
      "132  7.7  2.8  6.7  2.0  1\n",
      "133  7.3  2.9  6.3  1.8  1\n",
      "134  5.6  3.0  4.1  1.3  0\n",
      "135  6.5  2.8  4.6  1.5  0\n",
      "136  6.3  3.3  6.0  2.5  1\n",
      "137  5.4  3.9  1.3  0.4  2\n",
      "138  6.4  3.2  5.3  2.3  1\n",
      "139  5.0  3.5  1.3  0.3  2\n",
      "140  5.1  3.5  1.4  0.2  2\n",
      "141  6.1  2.8  4.7  1.2  0\n",
      "142  4.4  2.9  1.4  0.2  2\n",
      "143  6.7  3.0  5.2  2.3  1\n",
      "144  6.3  2.7  4.9  1.8  1\n",
      "145  5.7  2.5  5.0  2.0  1\n",
      "146  5.6  2.9  3.6  1.3  0\n",
      "147  5.7  4.4  1.5  0.4  2\n",
      "148  7.2  3.2  6.0  1.8  1\n",
      "149  4.9  3.1  1.5  0.1  2\n",
      "\n",
      "[150 rows x 5 columns]\n"
     ]
    },
    {
     "name": "stderr",
     "output_type": "stream",
     "text": [
      "/home/zhang/anaconda3/lib/python3.7/site-packages/ipykernel_launcher.py:3: FutureWarning: read_table is deprecated, use read_csv instead.\n",
      "  This is separate from the ipykernel package so we can avoid doing imports until\n"
     ]
    }
   ],
   "source": [
    "set_seed(10)\n",
    "\n",
    "# data reading and data pre-processing\n",
    "Iris_dataset = pd.read_table('iris.data', delimiter=',',header=None) # read data as dataframe\n",
    "Iris_dataset = Iris_dataset.sample(frac = 1).reset_index(drop=True) # shuffle \n",
    "\n",
    "# convert ['Iris-setosa' 'Iris-versicolor' 'Iris-virginica'] into [0 1 2]\n",
    "category_dic = {}\n",
    "for i,category in enumerate(Iris_dataset[4].unique()):\n",
    "    Iris_dataset.loc[Iris_dataset[4]==category,4]=i\n",
    "    category_dic[i] = category\n",
    "    \n",
    "# normalization: min-max\n",
    "'''\n",
    "for index, data in Iris_dataset.iteritems():\n",
    "    max_data = max(data)\n",
    "    min_data = min(data)\n",
    "    Iris_dataset.loc[:, index] = (data-min_data)/(max_data-min_data)\n",
    "    if index is 3:\n",
    "        break\n",
    "'''\n",
    "\n",
    "print(Iris_dataset)\n",
    "train_dataset = Iris_dataset.loc[:int(0.8*Iris_dataset.shape[0])].values\n",
    "val_dataset = Iris_dataset.loc[int(0.8*Iris_dataset.shape[0]):].values"
   ]
  },
  {
   "cell_type": "code",
   "execution_count": 5,
   "metadata": {},
   "outputs": [],
   "source": [
    "# define the train function\n",
    "def train(model, train_set): \n",
    "    loss = 0\n",
    "    accurate_classification = 0\n",
    "    for _, data in train_set.iterrows(): # read the data row by row\n",
    "        val_data = (data.values[:-1])\n",
    "        target = np.array([[0],[0],[0]])\n",
    "        # print(target.shape)\n",
    "        target[int(data.values[-1]),:] = 1 # if it is class 2: [0,0,1]\n",
    "        \n",
    "        model.train(val_data,target) # a tensor which represents the probability of each category \n",
    "        classification = model.output\n",
    "\n",
    "        loss += model.loss \n",
    "        # print(classification, target,data.values[-1])\n",
    "        classification = classification.tolist()\n",
    "        if  int( classification.index(max(classification)) ) == int(data.values[-1]):\n",
    "            # record the correct classification\n",
    "            accurate_classification += 1\n",
    "               \n",
    "    return loss.item()/train_set.shape[0], accurate_classification/train_set.shape[0]\n",
    "\n",
    "def validation(model, val_set):\n",
    "    loss = 0\n",
    "    accurate_classification = 0\n",
    "    for _, data in val_set.iterrows(): # read the data row by row\n",
    "        val_data = (data.values[:-1])\n",
    "        target = np.array([[0],[0],[0]])\n",
    "        target[int(data.values[-1]),:] = 1 # if it is class 2: [0,0,1]\n",
    "        \n",
    "        model.forward(val_data,target) # a tensor which represents the probability of each category \n",
    "        classification = model.output\n",
    "        loss += model.loss \n",
    "        \n",
    "        classification = classification.tolist()\n",
    "        if  int( classification.index(max(classification)) ) == int(data.values[-1]):\n",
    "            # record the correct classification\n",
    "            accurate_classification += 1\n",
    "               \n",
    "    return loss.item()/val_set.shape[0], accurate_classification/val_set.shape[0]"
   ]
  },
  {
   "cell_type": "code",
   "execution_count": 6,
   "metadata": {},
   "outputs": [],
   "source": [
    "# the main function \n",
    "def Train_and_Test():\n",
    "    model = NPnetwork(4,40,3)\n",
    "    \n",
    "    # divide the training set and validation set\n",
    "    train_dataset = Iris_dataset.loc[:int(0.8*Iris_dataset.shape[0])]\n",
    "    val_dataset = Iris_dataset.loc[int(0.8*Iris_dataset.shape[0]):]\n",
    "\n",
    "    train_loss_epoch = []\n",
    "    test_loss_epoch = []\n",
    "    train_accuracy_epoch = []\n",
    "    test_accuracy_epoch = []\n",
    "    for epoch in range(0,200):\n",
    "        train_loss, train_accuracy = train(model,train_dataset)\n",
    "        test_loss, test_accuracy = validation(model, val_dataset)\n",
    "        # print(test_loss)\n",
    "\n",
    "        train_loss_epoch.append(train_loss)\n",
    "        test_loss_epoch.append(test_loss)\n",
    "        train_accuracy_epoch.append(train_accuracy)\n",
    "        test_accuracy_epoch.append(test_accuracy)\n",
    "                \n",
    "    np.save('train_loss_epoch.npy', np.array(train_loss_epoch))\n",
    "    np.save('test_loss_epoch.npy', np.array(test_loss_epoch))\n",
    "    np.save('train_accuracy_epoch.npy', np.array(train_accuracy_epoch))\n",
    "    np.save('test_accuracy_epoch.npy', np.array(test_accuracy_epoch))\n",
    "    model.save_model()\n",
    "\n",
    "    return train_loss_epoch,test_loss_epoch,train_accuracy_epoch,test_accuracy_epoch\n"
   ]
  },
  {
   "cell_type": "code",
   "execution_count": 7,
   "metadata": {},
   "outputs": [],
   "source": [
    "def visualization(train_loss_epoch,test_loss_epoch,train_accuracy_epoch,test_accuracy_epoch):\n",
    "    print('Accuracy on train set',train_accuracy_epoch[-1])\n",
    "    print('Accuracy on validation set',test_accuracy_epoch[-1])\n",
    "\n",
    "    \n",
    "    l1,=plt.plot(list(range(len(test_accuracy_epoch))),test_accuracy_epoch)\n",
    "    l2,=plt.plot(list(range(len(train_accuracy_epoch))),train_accuracy_epoch)\n",
    "    plt.legend(handles = [l1, l2,], labels = ['validation', 'train'], loc = 'best')\n",
    "    plt.ylabel('Accuracy') \n",
    "    plt.xlabel('epoch')\n",
    "    plt.title('Accuracy on Train Set and Validation Set') \n",
    "    plt.show()\n",
    "    \n",
    "    l1,=plt.plot(list(range(len(test_loss_epoch))),test_loss_epoch)\n",
    "    l2,=plt.plot(list(range(len(train_loss_epoch))),train_loss_epoch)\n",
    "    plt.legend(handles = [l1, l2,], labels = ['validation', 'train'], loc = 'best')\n",
    "    plt.ylabel('Loss') \n",
    "    plt.xlabel('epoch')\n",
    "    plt.title('Loss on Train Set and Validation Set') \n",
    "\n",
    "    plt.show()"
   ]
  },
  {
   "cell_type": "code",
   "execution_count": 8,
   "metadata": {},
   "outputs": [],
   "source": [
    "def display():\n",
    "    test_accuracy_epoch = np.load('test_accuracy_epoch.npy').tolist()\n",
    "    test_loss_epoch = np.load('test_loss_epoch.npy').tolist()\n",
    "    train_accuracy_epoch = np.load('train_accuracy_epoch.npy').tolist()\n",
    "    train_loss_epoch = np.load('train_loss_epoch.npy').tolist()\n",
    "    \n",
    "    l1,=plt.plot(list(range(len(test_accuracy_epoch))),test_accuracy_epoch)\n",
    "    l2,=plt.plot(list(range(len(train_accuracy_epoch))),train_accuracy_epoch)\n",
    "    plt.legend(handles = [l1, l2,], labels = ['validation', 'train'], loc = 'best')\n",
    "    plt.ylabel('Accuracy') \n",
    "    plt.xlabel('epoch')\n",
    "    plt.title('Accuracy on Train Set and Validation Set') \n",
    "    plt.show()\n",
    "    \n",
    "    l1,=plt.plot(list(range(len(test_loss_epoch))),test_loss_epoch)\n",
    "    l2,=plt.plot(list(range(len(train_loss_epoch))),train_loss_epoch)\n",
    "    plt.legend(handles = [l1, l2,], labels = ['validation', 'train'], loc = 'best')\n",
    "    plt.ylabel('Loss') \n",
    "    plt.xlabel('epoch')\n",
    "    plt.title('Loss on Train Set and Validation Set') \n",
    "    plt.show()\n",
    "    \n",
    "    model = NPnetwork(4,40,3)\n",
    "    model.load_model()\n",
    "    _, test_accuracy = validation(model, Iris_dataset.loc[int(0.8*Iris_dataset.shape[0]):])\n",
    "    print('test_accuracy',test_accuracy)\n",
    "    "
   ]
  },
  {
   "cell_type": "code",
   "execution_count": 9,
   "metadata": {},
   "outputs": [
    {
     "name": "stdout",
     "output_type": "stream",
     "text": [
      "Accuracy on train set 0.9421487603305785\n",
      "Accuracy on validation set 0.9666666666666667\n"
     ]
    },
    {
     "data": {
      "image/png": "[encoded data removed]",
      "text/plain": [
       "<Figure size 432x288 with 1 Axes>"
      ]
     },
     "metadata": {
      "needs_background": "light"
     },
     "output_type": "display_data"
    },
    {
     "data": {
      "image/png": "[encoded data removed]",
      "text/plain": [
       "<Figure size 432x288 with 1 Axes>"
      ]
     },
     "metadata": {
      "needs_background": "light"
     },
     "output_type": "display_data"
    }
   ],
   "source": [
    "if not os.path.exists('model.npz'):\n",
    "    train_loss_epoch,test_loss_epoch,train_accuracy_epoch,test_accuracy_epoch = Train_and_Test()\n",
    "    visualization(train_loss_epoch,test_loss_epoch,train_accuracy_epoch,test_accuracy_epoch)"
   ]
  },
  {
   "cell_type": "code",
   "execution_count": 10,
   "metadata": {},
   "outputs": [
    {
     "data": {
      "image/png": "[encoded data removed]",
      "text/plain": [
       "<Figure size 432x288 with 1 Axes>"
      ]
     },
     "metadata": {
      "needs_background": "light"
     },
     "output_type": "display_data"
    },
    {
     "data": {
      "image/png": "[encoded data removed]",
      "text/plain": [
       "<Figure size 432x288 with 1 Axes>"
      ]
     },
     "metadata": {
      "needs_background": "light"
     },
     "output_type": "display_data"
    },
    {
     "name": "stdout",
     "output_type": "stream",
     "text": [
      "test_accuracy 0.9666666666666667\n"
     ]
    }
   ],
   "source": [
    "if os.path.exists('model.npz'):\n",
    "    display()"
   ]
  },
  {
   "cell_type": "code",
   "execution_count": null,
   "metadata": {},
   "outputs": [],
   "source": []
  }
 ],
 "metadata": {
  "kernelspec": {
   "display_name": "Python 3",
   "language": "python",
   "name": "python3"
  },
  "language_info": {
   "codemirror_mode": {
    "name": "ipython",
    "version": 3
   },
   "file_extension": ".py",
   "mimetype": "text/x-python",
   "name": "python",
   "nbconvert_exporter": "python",
   "pygments_lexer": "ipython3",
   "version": "3.7.3"
  },
  "toc": {
   "base_numbering": 1,
   "nav_menu": {},
   "number_sections": true,
   "sideBar": true,
   "skip_h1_title": false,
   "title_cell": "Table of Contents",
   "title_sidebar": "Contents",
   "toc_cell": false,
   "toc_position": {},
   "toc_section_display": true,
   "toc_window_display": false
  }
 },
 "nbformat": 4,
 "nbformat_minor": 2
}
